{
 "cells": [
  {
   "cell_type": "markdown",
   "metadata": {},
   "source": [
    "# Figure 5: Effective Tree Analysis - Sequence Clustering Impact\n",
    "\n",
    "**Purpose:** Analyze effective sequence counts after distance-based clustering  \n",
    "**Output:** Line plot showing effective sequence proportions across protein families"
   ]
  },
  {
   "cell_type": "markdown",
   "metadata": {},
   "source": [
    "## Setup and Configuration"
   ]
  },
  {
   "cell_type": "code",
   "execution_count": null,
   "metadata": {
    "vscode": {
     "languageId": "r"
    }
   },
   "outputs": [
    {
     "name": "stdout",
     "output_type": "stream",
     "text": [
      "[1] \"Setup complete\"\n",
      "[1] \"Working directory: /Users/ryanyork/Desktop/2025-evo2-likelihood-notebook-pub/trees\"\n"
     ]
    }
   ],
   "source": [
    "# Load required libraries and utility functions\n",
    "suppressMessages(source(\"code/utils/utils.R\"))\n",
    "\n",
    "# Set working directory to trees folder\n",
    "setwd(\"data/trees/\")"
   ]
  },
  {
   "cell_type": "markdown",
   "metadata": {},
   "source": [
    "## Data Loading and File Discovery"
   ]
  },
  {
   "cell_type": "code",
   "execution_count": null,
   "metadata": {
    "vscode": {
     "languageId": "r"
    }
   },
   "outputs": [
    {
     "name": "stdout",
     "output_type": "stream",
     "text": [
      "[1] \"Total tree files found: 54664\"\n",
      "[1] \"First 10 tree files:\"\n",
      " [1] \"1600014C23Rik_40483.nh\" \"1600025M17Rik_26666.nh\" \"1700001K19Rik_16728.nh\"\n",
      " [4] \"1700003H04Rik_34597.nh\" \"1700006A11Rik_16020.nh\" \"1700012A03Rik_38625.nh\"\n",
      " [7] \"1700012B07Rik_16988.nh\" \"1700013D24Rik_16933.nh\" \"1700013G24Rik_16880.nh\"\n",
      "[10] \"1700015E13Rik_26932.nh\"\n"
     ]
    }
   ],
   "source": [
    "# List all tree files (exclude taxonomy metadata files)\n",
    "files <- list.files()\n",
    "\n",
    "print(paste(\"Total tree files found:\", length(files)))\n",
    "print(\"First 10 tree files:\")\n",
    "print(head(files, 10))\n",
    "\n",
    "if (length(files) == 0) {\n",
    "  stop(\"No tree files found in the current directory\")\n",
    "}"
   ]
  },
  {
   "cell_type": "markdown",
   "metadata": {},
   "source": [
    "## Hill's Diversity Calculation\n",
    "\n",
    "Calculate normalized Hill's diversity for each phylogenetic tree"
   ]
  },
  {
   "cell_type": "code",
   "execution_count": 5,
   "metadata": {
    "vscode": {
     "languageId": "r"
    }
   },
   "outputs": [
    {
     "name": "stdout",
     "output_type": "stream",
     "text": [
      "[1] \"Calculating Hill's diversity for each tree...\"\n",
      "[1] \"This may take several minutes depending on the number and size of trees\"\n"
     ]
    }
   ],
   "source": [
    "# Initialize storage for Hill diversity values\n",
    "hill_values <- list()\n",
    "\n",
    "# Progress bar for tree processing\n",
    "pb <- txtProgressBar(\n",
    "  min = 1,\n",
    "  max = length(files),\n",
    "  style = 3,\n",
    "  width = 100,\n",
    "  char = \".\"\n",
    ")\n",
    "\n",
    "print(\"Calculating Hill's diversity for each tree...\")\n",
    "print(\"This may take several minutes depending on the number and size of trees\")"
   ]
  },
  {
   "cell_type": "code",
   "execution_count": 6,
   "metadata": {
    "vscode": {
     "languageId": "r"
    }
   },
   "outputs": [
    {
     "name": "stdout",
     "output_type": "stream",
     "text": [
      "  |................................................................                                    |  64%"
     ]
    },
    {
     "name": "stderr",
     "output_type": "stream",
     "text": [
      "Warning message in ape::read.tree(files[i]):\n",
      "\"empty character string.\"\n"
     ]
    },
    {
     "name": "stdout",
     "output_type": "stream",
     "text": [
      "  |....................................................................................................| 100%\n",
      "[1] \"\\nHill's diversity calculation complete!\"\n",
      "[1] \"Successfully processed 54664 trees\"\n",
      "[1] \"Tree size range: 0 to 1499 tips\"\n",
      "[1] \"Median tree size: 7 tips\"\n"
     ]
    }
   ],
   "source": [
    "# Calculate Hill diversity for each phylogenetic tree\n",
    "for (i in 1:length(files)) {\n",
    "  # Update progress indicator\n",
    "  setTxtProgressBar(pb, i)\n",
    "  \n",
    "  tryCatch({\n",
    "    # Load phylogenetic tree\n",
    "    tree <- ape::read.tree(files[i])\n",
    "    \n",
    "    # Calculate normalized Hill diversity metrics\n",
    "    hill_values[[as.character(files[i])]] <- normalize_hill_q1(tree)\n",
    "  }, error = function(e) {\n",
    "    print(paste(\"Error processing file\", files[i], \":\", e$message))\n",
    "  })\n",
    "}\n",
    "\n",
    "close(pb)\n",
    "print(\"\\nHill's diversity calculation complete!\")\n",
    "print(paste(\"Successfully processed\", length(hill_values), \"trees\"))\n",
    "\n",
    "# Show basic statistics\n",
    "tree_sizes <- unlist(lapply(hill_values, function(x) {\n",
    "  if (!is.null(x$tree)) length(x$tree$tip.label) else 0\n",
    "}))\n",
    "print(paste(\"Tree size range:\", min(tree_sizes), \"to\", max(tree_sizes), \"tips\"))\n",
    "print(paste(\"Median tree size:\", median(tree_sizes), \"tips\"))"
   ]
  },
  {
   "cell_type": "markdown",
   "metadata": {},
   "source": [
    "## Effective Tree Analysis\n",
    "\n",
    "Calculate effective trees using distance-based clustering with 0.05 threshold"
   ]
  },
  {
   "cell_type": "code",
   "execution_count": 7,
   "metadata": {
    "vscode": {
     "languageId": "r"
    }
   },
   "outputs": [
    {
     "name": "stdout",
     "output_type": "stream",
     "text": [
      "[1] \"Calculating effective trees with distance-based clustering...\"\n",
      "[1] \"Using threshold = 0.05 for clustering\"\n",
      "[1] \"This may take considerable time for large trees\"\n"
     ]
    }
   ],
   "source": [
    "# Initialize storage for effective tree calculations\n",
    "effective_trees <- list()\n",
    "\n",
    "# Progress bar for effective tree computation\n",
    "pb <- txtProgressBar(\n",
    "  min = 1,\n",
    "  max = length(hill_values),\n",
    "  style = 3,\n",
    "  width = 100,\n",
    "  char = \".\"\n",
    ")\n",
    "\n",
    "print(\"Calculating effective trees with distance-based clustering...\")\n",
    "print(\"Using threshold = 0.05 for clustering\")\n",
    "print(\"This may take considerable time for large trees\")"
   ]
  },
  {
   "cell_type": "code",
   "execution_count": 8,
   "metadata": {
    "vscode": {
     "languageId": "r"
    }
   },
   "outputs": [
    {
     "name": "stdout",
     "output_type": "stream",
     "text": [
      "  |....................................................................................................| 100%\n",
      "[1] \"\\nEffective tree analysis complete!\"\n",
      "[1] \"Successfully processed 54663 effective trees\"\n",
      "[1] \"Failed to process 0 trees\"\n"
     ]
    }
   ],
   "source": [
    "# Calculate effective trees using distance-based clustering\n",
    "threshold <- 0.05\n",
    "failed_trees <- 0\n",
    "\n",
    "for (i in 1:length(hill_values)) {\n",
    "  # Update progress indicator\n",
    "  setTxtProgressBar(pb, i)\n",
    "  \n",
    "  # Process trees that have valid structure\n",
    "  if (is.null(hill_values[[i]]$tree) == FALSE) {\n",
    "    tryCatch({\n",
    "      # Apply effective tree algorithm with 0.05 distance threshold\n",
    "      effective_trees[[names(hill_values)[i]]] <- get_effective_tree(hill_values[[i]]$tree, threshold = threshold)\n",
    "    }, error = function(e) {\n",
    "      failed_trees <<- failed_trees + 1\n",
    "      if (failed_trees <= 5) {  # Only show first 5 errors\n",
    "        print(paste(\"\\nError processing tree\", names(hill_values)[i], \":\", e$message))\n",
    "      }\n",
    "    })\n",
    "  }\n",
    "}\n",
    "\n",
    "close(pb)\n",
    "print(\"\\nEffective tree analysis complete!\")\n",
    "print(paste(\"Successfully processed\", length(effective_trees), \"effective trees\"))\n",
    "print(paste(\"Failed to process\", failed_trees, \"trees\"))\n",
    "\n",
    "if (length(effective_trees) == 0) {\n",
    "  stop(\"No effective trees were successfully calculated\")\n",
    "}"
   ]
  },
  {
   "cell_type": "markdown",
   "metadata": {},
   "source": [
    "## Summary Statistics\n",
    "\n",
    "Calculate total collapsed and original branch counts across all families"
   ]
  },
  {
   "cell_type": "code",
   "execution_count": 9,
   "metadata": {
    "vscode": {
     "languageId": "r"
    }
   },
   "outputs": [
    {
     "name": "stdout",
     "output_type": "stream",
     "text": [
      "[1] \"Branch reduction summary:\"\n",
      "[1] \"Total original branches: 4230261\"\n",
      "[1] \"Total collapsed branches: 2693597\"\n",
      "[1] \"Overall reduction rate: 63.7 %\"\n",
      "[1] \"Effective branches remaining: 1536664\"\n",
      "[1] \"\\nCollapsed branches per tree statistics:\"\n",
      "   Min. 1st Qu.  Median    Mean 3rd Qu.    Max. \n",
      "   1.00    3.00    6.00   49.28   68.00 1396.00 \n"
     ]
    }
   ],
   "source": [
    "# Calculate total collapsed and original branch counts\n",
    "total_collapsed <- sum(unlist(lapply(effective_trees, function(x) {\n",
    "  if (!is.null(x$n_collapsed_branches)) x$n_collapsed_branches else 0\n",
    "})))\n",
    "\n",
    "total_branches <- sum(unlist(lapply(effective_trees, function(x) {\n",
    "  if (!is.null(x$n_total_branches)) x$n_total_branches else 0\n",
    "})))\n",
    "\n",
    "print(\"Branch reduction summary:\")\n",
    "print(paste(\"Total original branches:\", total_branches))\n",
    "print(paste(\"Total collapsed branches:\", total_collapsed))\n",
    "print(paste(\"Overall reduction rate:\", round(100 * total_collapsed / total_branches, 1), \"%\"))\n",
    "print(paste(\"Effective branches remaining:\", total_branches - total_collapsed))\n",
    "\n",
    "# Show distribution of collapsed branches per tree\n",
    "collapsed_per_tree <- unlist(lapply(effective_trees, function(x) {\n",
    "  if (!is.null(x$n_collapsed_branches)) x$n_collapsed_branches else 0\n",
    "}))\n",
    "print(\"\\nCollapsed branches per tree statistics:\")\n",
    "print(summary(collapsed_per_tree))"
   ]
  },
  {
   "cell_type": "markdown",
   "metadata": {},
   "source": [
    "## Ratio Analysis\n",
    "\n",
    "Extract and analyze effective sequence ratios for each protein family"
   ]
  },
  {
   "cell_type": "code",
   "execution_count": 10,
   "metadata": {
    "vscode": {
     "languageId": "r"
    }
   },
   "outputs": [
    {
     "name": "stdout",
     "output_type": "stream",
     "text": [
      "[1] \"Effective sequence ratio statistics:\"\n",
      "   Min. 1st Qu.  Median    Mean 3rd Qu.    Max. \n",
      "0.02985 0.50000 0.66667 0.71483 1.00000 1.00000 \n",
      "[1] \"Number of families analyzed: 54663\"\n",
      "[1] \"\\nRatio distribution analysis:\"\n",
      "[1] \"Families with ratio <U+2264> 0.5 (high clustering): 14405\"\n",
      "[1] \"Families with ratio 0.5-1.0 (moderate clustering): 25838\"\n",
      "[1] \"Families with ratio = 1.0 (no clustering): 14420\"\n",
      "[1] \"High clustering: 26.4 %\"\n",
      "[1] \"Moderate clustering: 47.3 %\"\n",
      "[1] \"No clustering: 26.4 %\"\n"
     ]
    }
   ],
   "source": [
    "# Extract effective sequence ratios for each protein family\n",
    "ratio <- unlist(lapply(effective_trees, function(x) {\n",
    "  if (!is.null(x$ratio)) x$ratio else NA\n",
    "}))\n",
    "\n",
    "# Remove any NA values\n",
    "ratio <- ratio[!is.na(ratio)]\n",
    "\n",
    "print(\"Effective sequence ratio statistics:\")\n",
    "print(summary(ratio))\n",
    "print(paste(\"Number of families analyzed:\", length(ratio)))\n",
    "\n",
    "# Show distribution analysis\n",
    "print(\"\\nRatio distribution analysis:\")\n",
    "print(paste(\"Families with ratio ≤ 0.5 (high clustering):\", sum(ratio <= 0.5)))\n",
    "print(paste(\"Families with ratio 0.5-1.0 (moderate clustering):\", sum(ratio > 0.5 & ratio < 1.0)))\n",
    "print(paste(\"Families with ratio = 1.0 (no clustering):\", sum(ratio == 1.0)))\n",
    "\n",
    "# Calculate percentages\n",
    "n_total <- length(ratio)\n",
    "print(paste(\"High clustering:\", round(100 * sum(ratio <= 0.5) / n_total, 1), \"%\"))\n",
    "print(paste(\"Moderate clustering:\", round(100 * sum(ratio > 0.5 & ratio < 1.0) / n_total, 1), \"%\"))\n",
    "print(paste(\"No clustering:\", round(100 * sum(ratio == 1.0) / n_total, 1), \"%\"))"
   ]
  },
  {
   "cell_type": "markdown",
   "metadata": {},
   "source": [
    "## Visualization Data Preparation"
   ]
  },
  {
   "cell_type": "code",
   "execution_count": 11,
   "metadata": {
    "vscode": {
     "languageId": "r"
    }
   },
   "outputs": [
    {
     "name": "stdout",
     "output_type": "stream",
     "text": [
      "[1] \"Visualization data prepared:\"\n",
      "[1] \"Total data points: 54663\"\n",
      "[1] \"Bin distribution:\"\n",
      "\n",
      "   hi    lo   med \n",
      "14420 14405 25838 \n",
      "[1] \"Y-axis range: 0.03 to 1\"\n",
      "[1] \"First few data points:\"\n",
      "                                    x          y bins\n",
      "IGIP_17436.nh                       1 0.02985075   lo\n",
      "protein_ENSSTUP00000038007_24390.nh 2 0.03703704   lo\n",
      "human_ENSPTIP00000009161_24573.nh   3 0.04000000   lo\n",
      "GNG13_54612.nh                      4 0.04415182   lo\n",
      "His2A_CG33853_17738.nh              5 0.04761905   lo\n",
      "protein_ENSOMYP00000127235_25271.nh 6 0.04761905   lo\n"
     ]
    }
   ],
   "source": [
    "# Prepare data frame for plotting\n",
    "df <- data.frame(x = 1:length(ratio), y = sort(ratio))\n",
    "\n",
    "# Create categorical bins based on ratio values\n",
    "bins <- df$y\n",
    "bins[bins <= 0.5] <- \"lo\"      # Low effective proportion (high clustering)\n",
    "bins[bins > 0.5 & bins < 1] <- \"med\"   # Medium effective proportion (moderate clustering)\n",
    "bins[bins == 1] <- \"hi\"        # High effective proportion (no clustering)\n",
    "df$bins <- bins\n",
    "\n",
    "print(\"Visualization data prepared:\")\n",
    "print(paste(\"Total data points:\", nrow(df)))\n",
    "print(\"Bin distribution:\")\n",
    "print(table(df$bins))\n",
    "\n",
    "# Show data range\n",
    "print(paste(\"Y-axis range:\", round(min(df$y), 3), \"to\", round(max(df$y), 3)))\n",
    "print(\"First few data points:\")\n",
    "print(head(df))"
   ]
  },
  {
   "cell_type": "markdown",
   "metadata": {},
   "source": [
    "## Plot Generation\n",
    "\n",
    "Create line plot showing effective sequence proportions across protein families"
   ]
  },
  {
   "cell_type": "code",
   "execution_count": 12,
   "metadata": {
    "vscode": {
     "languageId": "r"
    }
   },
   "outputs": [
    {
     "name": "stdout",
     "output_type": "stream",
     "text": [
      "[1] \"Effective sequence proportion plot generated\"\n"
     ]
    },
    {
     "data": {
      "image/png": "[encoded data removed]",
      "text/plain": [
       "plot without title"
      ]
     },
     "metadata": {
      "image/png": {
       "height": 420,
       "width": 420
      }
     },
     "output_type": "display_data"
    }
   ],
   "source": [
    "# Create line plot showing effective sequence proportions\n",
    "p <- ggplot(data = df,\n",
    "       aes(x = x,\n",
    "           y = y,\n",
    "           color = bins)) +\n",
    "  xlab(\"Protein family\") +\n",
    "  ylab(\"Effective sequence proportion\") +\n",
    "  geom_line(show.legend = FALSE) +\n",
    "  theme(legend.position = \"none\") +\n",
    "  ylim(c(0, 1)) +\n",
    "  scale_color_arcadia(palette_name = \"primary\") +\n",
    "  theme_arcadia()\n",
    "\n",
    "# Display the plot\n",
    "print(p)\n",
    "print(\"Effective sequence proportion plot generated\")"
   ]
  },
  {
   "cell_type": "markdown",
   "metadata": {},
   "source": [
    "## Additional Analysis: Clustering Efficiency"
   ]
  },
  {
   "cell_type": "code",
   "execution_count": 13,
   "metadata": {
    "vscode": {
     "languageId": "r"
    }
   },
   "outputs": [
    {
     "name": "stdout",
     "output_type": "stream",
     "text": [
      "[1] \"=== CLUSTERING EFFICIENCY ANALYSIS ===\"\n",
      "[1] \"Ratio quartiles:\"\n",
      "   0%   25%   50%   75%  100% \n",
      "0.030 0.500 0.667 1.000 1.000 \n",
      "[1] \"\\nCorrelation between tree size and effective ratio: -0.1938\"\n",
      "[1] \"Mean tree size - high clustering: 15.3 tips\"\n",
      "[1] \"Mean tree size - no clustering: 5.4 tips\"\n",
      "[1] \"\\nMean sequence reduction: 28.5 %\"\n",
      "[1] \"Median sequence reduction: 33.3 %\"\n",
      "[1] \"Max sequence reduction: 97 %\"\n"
     ]
    }
   ],
   "source": [
    "# Additional analysis of clustering efficiency\n",
    "print(\"=== CLUSTERING EFFICIENCY ANALYSIS ===\")\n",
    "\n",
    "# Calculate quartiles for detailed analysis\n",
    "quartiles <- quantile(ratio, probs = c(0, 0.25, 0.5, 0.75, 1.0))\n",
    "print(\"Ratio quartiles:\")\n",
    "print(round(quartiles, 3))\n",
    "\n",
    "# Analyze tree sizes vs clustering efficiency\n",
    "tree_sizes_effective <- unlist(lapply(names(ratio), function(name) {\n",
    "  if (name %in% names(hill_values) && !is.null(hill_values[[name]]$tree)) {\n",
    "    length(hill_values[[name]]$tree$tip.label)\n",
    "  } else {\n",
    "    NA\n",
    "  }\n",
    "}))\n",
    "\n",
    "# Remove NA values and match with ratios\n",
    "valid_indices <- !is.na(tree_sizes_effective)\n",
    "if (sum(valid_indices) > 0) {\n",
    "  correlation_size_ratio <- cor(tree_sizes_effective[valid_indices], ratio[valid_indices], use = \"complete.obs\")\n",
    "  print(paste(\"\\nCorrelation between tree size and effective ratio:\", round(correlation_size_ratio, 4)))\n",
    "  \n",
    "  # Show size statistics for different clustering levels\n",
    "  high_clustering <- tree_sizes_effective[valid_indices][ratio[valid_indices] <= 0.5]\n",
    "  no_clustering <- tree_sizes_effective[valid_indices][ratio[valid_indices] == 1.0]\n",
    "  \n",
    "  if (length(high_clustering) > 0 && length(no_clustering) > 0) {\n",
    "    print(paste(\"Mean tree size - high clustering:\", round(mean(high_clustering), 1), \"tips\"))\n",
    "    print(paste(\"Mean tree size - no clustering:\", round(mean(no_clustering), 1), \"tips\"))\n",
    "  }\n",
    "}\n",
    "\n",
    "# Calculate reduction statistics\n",
    "reduction_factor <- 1 - ratio\n",
    "print(paste(\"\\nMean sequence reduction:\", round(100 * mean(reduction_factor), 1), \"%\"))\n",
    "print(paste(\"Median sequence reduction:\", round(100 * median(reduction_factor), 1), \"%\"))\n",
    "print(paste(\"Max sequence reduction:\", round(100 * max(reduction_factor), 1), \"%\"))"
   ]
  },
  {
   "cell_type": "markdown",
   "metadata": {},
   "source": [
    "## Summary Statistics and Results"
   ]
  },
  {
   "cell_type": "code",
   "execution_count": 14,
   "metadata": {
    "vscode": {
     "languageId": "r"
    }
   },
   "outputs": [
    {
     "name": "stdout",
     "output_type": "stream",
     "text": [
      "\n",
      "=== EFFECTIVE TREE ANALYSIS SUMMARY ===\n",
      "Data Processing:\n",
      "  Input tree files: 54664 \n",
      "  Successfully processed trees: 54664 \n",
      "  Effective trees calculated: 54663 \n",
      "  Final analysis dataset: 54663 families\n",
      "\n",
      "Clustering Parameters:\n",
      "  Distance threshold: 0.05 \n",
      "  Algorithm: Distance-based clustering\n",
      "\n",
      "Branch Reduction Results:\n",
      "  Total branches analyzed: 4230261 \n",
      "  Branches collapsed: 2693597 \n",
      "  Overall reduction rate: 63.7 %\n",
      "\n",
      "Effective Sequence Ratios:\n",
      "  Mean ratio: 0.715 \n",
      "  Median ratio: 0.667 \n",
      "  Range: 0.03 to 1 \n",
      "\n",
      "Clustering Impact Distribution:\n",
      "  High clustering (<U+2264>50% effective): 14405 families\n",
      "  Moderate clustering (50-100% effective): 25838 families\n",
      "  No clustering (100% effective): 14420 families\n",
      "\n",
      "Key Insights:\n",
      "  - Substantial sequence redundancy detected across families\n",
      "  - Distance-based clustering at threshold 0.05 effective for data reduction\n",
      "  - Tree size weakly related to clustering efficiency\n"
     ]
    }
   ],
   "source": [
    "# Generate comprehensive summary\n",
    "cat(\"\\n=== EFFECTIVE TREE ANALYSIS SUMMARY ===\\n\")\n",
    "cat(\"Data Processing:\\n\")\n",
    "cat(\"  Input tree files:\", length(files), \"\\n\")\n",
    "cat(\"  Successfully processed trees:\", length(hill_values), \"\\n\")\n",
    "cat(\"  Effective trees calculated:\", length(effective_trees), \"\\n\")\n",
    "cat(\"  Final analysis dataset:\", length(ratio), \"families\\n\")\n",
    "\n",
    "cat(\"\\nClustering Parameters:\\n\")\n",
    "cat(\"  Distance threshold:\", threshold, \"\\n\")\n",
    "cat(\"  Algorithm: Distance-based clustering\\n\")\n",
    "\n",
    "cat(\"\\nBranch Reduction Results:\\n\")\n",
    "cat(\"  Total branches analyzed:\", total_branches, \"\\n\")\n",
    "cat(\"  Branches collapsed:\", total_collapsed, \"\\n\")\n",
    "cat(\"  Overall reduction rate:\", round(100 * total_collapsed / total_branches, 1), \"%\\n\")\n",
    "\n",
    "cat(\"\\nEffective Sequence Ratios:\\n\")\n",
    "cat(\"  Mean ratio:\", round(mean(ratio), 3), \"\\n\")\n",
    "cat(\"  Median ratio:\", round(median(ratio), 3), \"\\n\")\n",
    "cat(\"  Range:\", round(min(ratio), 3), \"to\", round(max(ratio), 3), \"\\n\")\n",
    "\n",
    "cat(\"\\nClustering Impact Distribution:\\n\")\n",
    "cat(\"  High clustering (≤50% effective):\", sum(ratio <= 0.5), \"families\\n\")\n",
    "cat(\"  Moderate clustering (50-100% effective):\", sum(ratio > 0.5 & ratio < 1.0), \"families\\n\")\n",
    "cat(\"  No clustering (100% effective):\", sum(ratio == 1.0), \"families\\n\")\n",
    "\n",
    "cat(\"\\nKey Insights:\\n\")\n",
    "if (mean(ratio) < 0.8) {\n",
    "  cat(\"  - Substantial sequence redundancy detected across families\\n\")\n",
    "} else {\n",
    "  cat(\"  - Moderate sequence redundancy detected\\n\")\n",
    "}\n",
    "cat(\"  - Distance-based clustering at threshold\", threshold, \"effective for data reduction\\n\")\n",
    "if (exists(\"correlation_size_ratio\") && !is.na(correlation_size_ratio)) {\n",
    "  if (correlation_size_ratio < -0.3) {\n",
    "    cat(\"  - Larger trees show more clustering potential\\n\")\n",
    "  } else if (correlation_size_ratio > 0.3) {\n",
    "    cat(\"  - Larger trees are less amenable to clustering\\n\")\n",
    "  } else {\n",
    "    cat(\"  - Tree size weakly related to clustering efficiency\\n\")\n",
    "  }\n",
    "}"
   ]
  },
  {
   "cell_type": "markdown",
   "metadata": {},
   "source": [
    "## Conclusion\n",
    "\n",
    "This analysis:\n",
    "1. Calculated Hill's diversity for phylogenetic trees across protein families\n",
    "2. Applied distance-based clustering (threshold = 0.05) to identify redundant sequences\n",
    "3. Computed effective sequence ratios showing the proportion of non-redundant sequences\n",
    "4. Analyzed clustering efficiency across different protein families\n",
    "5. Visualized the distribution of effective sequence proportions\n",
    "\n",
    "The results reveal the extent of sequence redundancy in phylogenetic datasets and demonstrate how distance-based clustering can reduce computational complexity while preserving phylogenetic signal. Families with lower effective ratios contain more redundant sequences and may benefit most from clustering approaches."
   ]
  }
 ],
 "metadata": {
  "kernelspec": {
   "display_name": "R",
   "language": "R",
   "name": "ir"
  },
  "language_info": {
   "codemirror_mode": "r",
   "file_extension": ".r",
   "mimetype": "text/x-r-source",
   "name": "R",
   "pygments_lexer": "r",
   "version": "4.4.1"
  }
 },
 "nbformat": 4,
 "nbformat_minor": 4
}
