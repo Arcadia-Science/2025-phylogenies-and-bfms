{
 "cells": [
  {
   "cell_type": "markdown",
   "metadata": {},
   "source": [
    "# Figure 3: Evo 2 likelihood as a function of gene age\n",
    "\n",
    "**Purpose:** Analyze relationship between gene age and evolutionary likelihood  \n",
    "**Output:** Time series plot with error bands showing gene age trends"
   ]
  },
  {
   "cell_type": "markdown",
   "metadata": {},
   "source": [
    "## Setup and Configuration"
   ]
  },
  {
   "cell_type": "code",
   "execution_count": null,
   "metadata": {
    "vscode": {
     "languageId": "r"
    }
   },
   "outputs": [
    {
     "name": "stdout",
     "output_type": "stream",
     "text": [
      "Custom fonts 'Suisse Int'l, Suisse Int'l Semi Bold, Suisse Int'l Medium, Suisse Int'l Mono' not found. Using fallback font 'sans'.\n"
     ]
    }
   ],
   "source": [
    "# Load required libraries and utility functions\n",
    "suppressMessages(source(\"code/utils/utils.R\"))"
   ]
  },
  {
   "cell_type": "markdown",
   "metadata": {},
   "source": [
    "## Data Loading\n",
    "\n",
    "Download and load gene ages"
   ]
  },
  {
   "cell_type": "code",
   "execution_count": 2,
   "metadata": {
    "vscode": {
     "languageId": "r"
    }
   },
   "outputs": [
    {
     "name": "stdout",
     "output_type": "stream",
     "text": [
      "[1] \"Gene age data loaded: 23127 entries\"\n",
      "[1] \"First few rows of gene age data:\"\n",
      "  ensembl_gene_id external_gene_name gene_age gene_Interval gene_branch\n",
      "1 ENSG00000131188               PRR7      645       615-676          14\n",
      "2 ENSG00000161055            SCGB3A1      244       177-312          20\n",
      "3 ENSG00000280094              OR1B1        3           0-7          34\n",
      "4 ENSG00000171501              OR1N2       18         16-20          31\n",
      "5 ENSG00000239590              OR1J4       18         16-20          31\n",
      "6 ENSG00000165202              OR1Q1       18         16-20          31\n",
      "[1] \"Column names:\"\n",
      "[1] \"ensembl_gene_id\"    \"external_gene_name\" \"gene_age\"          \n",
      "[4] \"gene_Interval\"      \"gene_branch\"       \n"
     ]
    }
   ],
   "source": [
    "# Download\n",
    "system('wget -O data/homo_sapiens_gene_ages.csv https://chenzxlab.hzau.edu.cn/static/GenOrigin/download/Age_Inference/Homo_sapiens.csv')\n",
    "\n",
    "# Load gene age data\n",
    "all_ages <- read.csv(\"data/homo_sapiens_gene_ages.csv\")\n",
    "\n",
    "print(paste(\"Gene age data loaded:\", nrow(all_ages), \"entries\"))\n",
    "print(\"First few rows of gene age data:\")\n",
    "print(head(all_ages))\n",
    "print(\"Column names:\")\n",
    "print(colnames(all_ages))"
   ]
  },
  {
   "cell_type": "code",
   "execution_count": 3,
   "metadata": {
    "vscode": {
     "languageId": "r"
    }
   },
   "outputs": [
    {
     "name": "stdout",
     "output_type": "stream",
     "text": [
      "[1] \"Gene age range after cleaning:\"\n",
      "[1] \"Min age: 3 MYA\"\n",
      "[1] \"Max age: 4290 MYA\"\n",
      "[1] \"Median age: 645 MYA\"\n"
     ]
    }
   ],
   "source": [
    "# Clean gene age formatting (remove '>' symbols)\n",
    "all_ages$gene_age <- gsub(\">\", \"\", all_ages$gene_age)\n",
    "\n",
    "print(\"Gene age range after cleaning:\")\n",
    "age_numeric <- as.numeric(all_ages$gene_age)\n",
    "print(paste(\"Min age:\", min(age_numeric, na.rm=TRUE), \"MYA\"))\n",
    "print(paste(\"Max age:\", max(age_numeric, na.rm=TRUE), \"MYA\"))\n",
    "print(paste(\"Median age:\", median(age_numeric, na.rm=TRUE), \"MYA\"))"
   ]
  },
  {
   "cell_type": "markdown",
   "metadata": {},
   "source": [
    "Download human gene sequences"
   ]
  },
  {
   "cell_type": "code",
   "execution_count": 11,
   "metadata": {
    "vscode": {
     "languageId": "r"
    }
   },
   "outputs": [],
   "source": [
    "system('python3 code/utils/fig3_download_human_genes.py --gene_dir data/human_genes_dna')"
   ]
  },
  {
   "cell_type": "markdown",
   "metadata": {},
   "source": [
    "Congifure parameters for calculating evo2 likelihoods"
   ]
  },
  {
   "cell_type": "code",
   "execution_count": 9,
   "metadata": {
    "vscode": {
     "languageId": "r"
    }
   },
   "outputs": [
    {
     "name": "stdout",
     "output_type": "stream",
     "text": [
      "[1] \"Using 9 cores for parallel processing\"\n"
     ]
    }
   ],
   "source": [
    "# Configuration \n",
    "API_KEY <- \"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\"\n",
    "URL <- \"https://health.api.nvidia.com/v1/biology/arc/evo2-40b/generate\"\n",
    "OUTPUT_DIR <- \"data/evo2_output\"\n",
    "TEMP_DIR <- file.path(OUTPUT_DIR, \"temp\")\n",
    "MAX_PARALLEL <- min(parallel::detectCores() - 1, 15)  # Use up to 15 cores or max available - 1\n",
    "MAX_SEQ_LENGTH <- 300  # Shortened sequence length for faster API responses\n",
    "TIMEOUT <- 60  # Timeout for API requests in seconds\n",
    "\n",
    "# Create output directories\n",
    "dir.create(OUTPUT_DIR, showWarnings = FALSE, recursive = TRUE)\n",
    "dir.create(TEMP_DIR, showWarnings = FALSE, recursive = TRUE)\n",
    "\n",
    "# Set working directory to project root\n",
    "ROOT_DIR <- getwd()\n",
    "\n",
    "# Get maximum number of parallel connections supported by R session\n",
    "print(paste(\"Using\", MAX_PARALLEL, \"cores for parallel processing\"))"
   ]
  },
  {
   "cell_type": "markdown",
   "metadata": {},
   "source": [
    "Calculate evo2 likelihoods in parallel"
   ]
  },
  {
   "cell_type": "code",
   "execution_count": 10,
   "metadata": {
    "vscode": {
     "languageId": "r"
    }
   },
   "outputs": [
    {
     "name": "stdout",
     "output_type": "stream",
     "text": [
      "[1] \"Found 22796 FASTA files to process\"\n",
      "[1] \"Will process 22796 files\"\n"
     ]
    },
    {
     "data": {
      "text/html": [
       "<ol>\n",
       "\t<li><style>\n",
       ".list-inline {list-style: none; margin:0; padding: 0}\n",
       ".list-inline>li {display: inline-block}\n",
       ".list-inline>li:not(:last-child)::after {content: \"\\00b7\"; padding: 0 .5ex}\n",
       "</style>\n",
       "<ol class=list-inline><li>'tools'</li><li>'jsonlite'</li><li>'httr'</li><li>'stats'</li><li>'graphics'</li><li>'grDevices'</li><li>'utils'</li><li>'datasets'</li><li>'methods'</li><li>'base'</li></ol>\n",
       "</li>\n",
       "\t<li><style>\n",
       ".list-inline {list-style: none; margin:0; padding: 0}\n",
       ".list-inline>li {display: inline-block}\n",
       ".list-inline>li:not(:last-child)::after {content: \"\\00b7\"; padding: 0 .5ex}\n",
       "</style>\n",
       "<ol class=list-inline><li>'tools'</li><li>'jsonlite'</li><li>'httr'</li><li>'stats'</li><li>'graphics'</li><li>'grDevices'</li><li>'utils'</li><li>'datasets'</li><li>'methods'</li><li>'base'</li></ol>\n",
       "</li>\n",
       "\t<li><style>\n",
       ".list-inline {list-style: none; margin:0; padding: 0}\n",
       ".list-inline>li {display: inline-block}\n",
       ".list-inline>li:not(:last-child)::after {content: \"\\00b7\"; padding: 0 .5ex}\n",
       "</style>\n",
       "<ol class=list-inline><li>'tools'</li><li>'jsonlite'</li><li>'httr'</li><li>'stats'</li><li>'graphics'</li><li>'grDevices'</li><li>'utils'</li><li>'datasets'</li><li>'methods'</li><li>'base'</li></ol>\n",
       "</li>\n",
       "\t<li><style>\n",
       ".list-inline {list-style: none; margin:0; padding: 0}\n",
       ".list-inline>li {display: inline-block}\n",
       ".list-inline>li:not(:last-child)::after {content: \"\\00b7\"; padding: 0 .5ex}\n",
       "</style>\n",
       "<ol class=list-inline><li>'tools'</li><li>'jsonlite'</li><li>'httr'</li><li>'stats'</li><li>'graphics'</li><li>'grDevices'</li><li>'utils'</li><li>'datasets'</li><li>'methods'</li><li>'base'</li></ol>\n",
       "</li>\n",
       "\t<li><style>\n",
       ".list-inline {list-style: none; margin:0; padding: 0}\n",
       ".list-inline>li {display: inline-block}\n",
       ".list-inline>li:not(:last-child)::after {content: \"\\00b7\"; padding: 0 .5ex}\n",
       "</style>\n",
       "<ol class=list-inline><li>'tools'</li><li>'jsonlite'</li><li>'httr'</li><li>'stats'</li><li>'graphics'</li><li>'grDevices'</li><li>'utils'</li><li>'datasets'</li><li>'methods'</li><li>'base'</li></ol>\n",
       "</li>\n",
       "\t<li><style>\n",
       ".list-inline {list-style: none; margin:0; padding: 0}\n",
       ".list-inline>li {display: inline-block}\n",
       ".list-inline>li:not(:last-child)::after {content: \"\\00b7\"; padding: 0 .5ex}\n",
       "</style>\n",
       "<ol class=list-inline><li>'tools'</li><li>'jsonlite'</li><li>'httr'</li><li>'stats'</li><li>'graphics'</li><li>'grDevices'</li><li>'utils'</li><li>'datasets'</li><li>'methods'</li><li>'base'</li></ol>\n",
       "</li>\n",
       "\t<li><style>\n",
       ".list-inline {list-style: none; margin:0; padding: 0}\n",
       ".list-inline>li {display: inline-block}\n",
       ".list-inline>li:not(:last-child)::after {content: \"\\00b7\"; padding: 0 .5ex}\n",
       "</style>\n",
       "<ol class=list-inline><li>'tools'</li><li>'jsonlite'</li><li>'httr'</li><li>'stats'</li><li>'graphics'</li><li>'grDevices'</li><li>'utils'</li><li>'datasets'</li><li>'methods'</li><li>'base'</li></ol>\n",
       "</li>\n",
       "\t<li><style>\n",
       ".list-inline {list-style: none; margin:0; padding: 0}\n",
       ".list-inline>li {display: inline-block}\n",
       ".list-inline>li:not(:last-child)::after {content: \"\\00b7\"; padding: 0 .5ex}\n",
       "</style>\n",
       "<ol class=list-inline><li>'tools'</li><li>'jsonlite'</li><li>'httr'</li><li>'stats'</li><li>'graphics'</li><li>'grDevices'</li><li>'utils'</li><li>'datasets'</li><li>'methods'</li><li>'base'</li></ol>\n",
       "</li>\n",
       "\t<li><style>\n",
       ".list-inline {list-style: none; margin:0; padding: 0}\n",
       ".list-inline>li {display: inline-block}\n",
       ".list-inline>li:not(:last-child)::after {content: \"\\00b7\"; padding: 0 .5ex}\n",
       "</style>\n",
       "<ol class=list-inline><li>'tools'</li><li>'jsonlite'</li><li>'httr'</li><li>'stats'</li><li>'graphics'</li><li>'grDevices'</li><li>'utils'</li><li>'datasets'</li><li>'methods'</li><li>'base'</li></ol>\n",
       "</li>\n",
       "</ol>\n"
      ],
      "text/latex": [
       "\\begin{enumerate}\n",
       "\\item \\begin{enumerate*}\n",
       "\\item 'tools'\n",
       "\\item 'jsonlite'\n",
       "\\item 'httr'\n",
       "\\item 'stats'\n",
       "\\item 'graphics'\n",
       "\\item 'grDevices'\n",
       "\\item 'utils'\n",
       "\\item 'datasets'\n",
       "\\item 'methods'\n",
       "\\item 'base'\n",
       "\\end{enumerate*}\n",
       "\n",
       "\\item \\begin{enumerate*}\n",
       "\\item 'tools'\n",
       "\\item 'jsonlite'\n",
       "\\item 'httr'\n",
       "\\item 'stats'\n",
       "\\item 'graphics'\n",
       "\\item 'grDevices'\n",
       "\\item 'utils'\n",
       "\\item 'datasets'\n",
       "\\item 'methods'\n",
       "\\item 'base'\n",
       "\\end{enumerate*}\n",
       "\n",
       "\\item \\begin{enumerate*}\n",
       "\\item 'tools'\n",
       "\\item 'jsonlite'\n",
       "\\item 'httr'\n",
       "\\item 'stats'\n",
       "\\item 'graphics'\n",
       "\\item 'grDevices'\n",
       "\\item 'utils'\n",
       "\\item 'datasets'\n",
       "\\item 'methods'\n",
       "\\item 'base'\n",
       "\\end{enumerate*}\n",
       "\n",
       "\\item \\begin{enumerate*}\n",
       "\\item 'tools'\n",
       "\\item 'jsonlite'\n",
       "\\item 'httr'\n",
       "\\item 'stats'\n",
       "\\item 'graphics'\n",
       "\\item 'grDevices'\n",
       "\\item 'utils'\n",
       "\\item 'datasets'\n",
       "\\item 'methods'\n",
       "\\item 'base'\n",
       "\\end{enumerate*}\n",
       "\n",
       "\\item \\begin{enumerate*}\n",
       "\\item 'tools'\n",
       "\\item 'jsonlite'\n",
       "\\item 'httr'\n",
       "\\item 'stats'\n",
       "\\item 'graphics'\n",
       "\\item 'grDevices'\n",
       "\\item 'utils'\n",
       "\\item 'datasets'\n",
       "\\item 'methods'\n",
       "\\item 'base'\n",
       "\\end{enumerate*}\n",
       "\n",
       "\\item \\begin{enumerate*}\n",
       "\\item 'tools'\n",
       "\\item 'jsonlite'\n",
       "\\item 'httr'\n",
       "\\item 'stats'\n",
       "\\item 'graphics'\n",
       "\\item 'grDevices'\n",
       "\\item 'utils'\n",
       "\\item 'datasets'\n",
       "\\item 'methods'\n",
       "\\item 'base'\n",
       "\\end{enumerate*}\n",
       "\n",
       "\\item \\begin{enumerate*}\n",
       "\\item 'tools'\n",
       "\\item 'jsonlite'\n",
       "\\item 'httr'\n",
       "\\item 'stats'\n",
       "\\item 'graphics'\n",
       "\\item 'grDevices'\n",
       "\\item 'utils'\n",
       "\\item 'datasets'\n",
       "\\item 'methods'\n",
       "\\item 'base'\n",
       "\\end{enumerate*}\n",
       "\n",
       "\\item \\begin{enumerate*}\n",
       "\\item 'tools'\n",
       "\\item 'jsonlite'\n",
       "\\item 'httr'\n",
       "\\item 'stats'\n",
       "\\item 'graphics'\n",
       "\\item 'grDevices'\n",
       "\\item 'utils'\n",
       "\\item 'datasets'\n",
       "\\item 'methods'\n",
       "\\item 'base'\n",
       "\\end{enumerate*}\n",
       "\n",
       "\\item \\begin{enumerate*}\n",
       "\\item 'tools'\n",
       "\\item 'jsonlite'\n",
       "\\item 'httr'\n",
       "\\item 'stats'\n",
       "\\item 'graphics'\n",
       "\\item 'grDevices'\n",
       "\\item 'utils'\n",
       "\\item 'datasets'\n",
       "\\item 'methods'\n",
       "\\item 'base'\n",
       "\\end{enumerate*}\n",
       "\n",
       "\\end{enumerate}\n"
      ],
      "text/markdown": [
       "1. 1. 'tools'\n",
       "2. 'jsonlite'\n",
       "3. 'httr'\n",
       "4. 'stats'\n",
       "5. 'graphics'\n",
       "6. 'grDevices'\n",
       "7. 'utils'\n",
       "8. 'datasets'\n",
       "9. 'methods'\n",
       "10. 'base'\n",
       "\n",
       "\n",
       "\n",
       "2. 1. 'tools'\n",
       "2. 'jsonlite'\n",
       "3. 'httr'\n",
       "4. 'stats'\n",
       "5. 'graphics'\n",
       "6. 'grDevices'\n",
       "7. 'utils'\n",
       "8. 'datasets'\n",
       "9. 'methods'\n",
       "10. 'base'\n",
       "\n",
       "\n",
       "\n",
       "3. 1. 'tools'\n",
       "2. 'jsonlite'\n",
       "3. 'httr'\n",
       "4. 'stats'\n",
       "5. 'graphics'\n",
       "6. 'grDevices'\n",
       "7. 'utils'\n",
       "8. 'datasets'\n",
       "9. 'methods'\n",
       "10. 'base'\n",
       "\n",
       "\n",
       "\n",
       "4. 1. 'tools'\n",
       "2. 'jsonlite'\n",
       "3. 'httr'\n",
       "4. 'stats'\n",
       "5. 'graphics'\n",
       "6. 'grDevices'\n",
       "7. 'utils'\n",
       "8. 'datasets'\n",
       "9. 'methods'\n",
       "10. 'base'\n",
       "\n",
       "\n",
       "\n",
       "5. 1. 'tools'\n",
       "2. 'jsonlite'\n",
       "3. 'httr'\n",
       "4. 'stats'\n",
       "5. 'graphics'\n",
       "6. 'grDevices'\n",
       "7. 'utils'\n",
       "8. 'datasets'\n",
       "9. 'methods'\n",
       "10. 'base'\n",
       "\n",
       "\n",
       "\n",
       "6. 1. 'tools'\n",
       "2. 'jsonlite'\n",
       "3. 'httr'\n",
       "4. 'stats'\n",
       "5. 'graphics'\n",
       "6. 'grDevices'\n",
       "7. 'utils'\n",
       "8. 'datasets'\n",
       "9. 'methods'\n",
       "10. 'base'\n",
       "\n",
       "\n",
       "\n",
       "7. 1. 'tools'\n",
       "2. 'jsonlite'\n",
       "3. 'httr'\n",
       "4. 'stats'\n",
       "5. 'graphics'\n",
       "6. 'grDevices'\n",
       "7. 'utils'\n",
       "8. 'datasets'\n",
       "9. 'methods'\n",
       "10. 'base'\n",
       "\n",
       "\n",
       "\n",
       "8. 1. 'tools'\n",
       "2. 'jsonlite'\n",
       "3. 'httr'\n",
       "4. 'stats'\n",
       "5. 'graphics'\n",
       "6. 'grDevices'\n",
       "7. 'utils'\n",
       "8. 'datasets'\n",
       "9. 'methods'\n",
       "10. 'base'\n",
       "\n",
       "\n",
       "\n",
       "9. 1. 'tools'\n",
       "2. 'jsonlite'\n",
       "3. 'httr'\n",
       "4. 'stats'\n",
       "5. 'graphics'\n",
       "6. 'grDevices'\n",
       "7. 'utils'\n",
       "8. 'datasets'\n",
       "9. 'methods'\n",
       "10. 'base'\n",
       "\n",
       "\n",
       "\n",
       "\n",
       "\n"
      ],
      "text/plain": [
       "[[1]]\n",
       " [1] \"tools\"     \"jsonlite\"  \"httr\"      \"stats\"     \"graphics\"  \"grDevices\"\n",
       " [7] \"utils\"     \"datasets\"  \"methods\"   \"base\"     \n",
       "\n",
       "[[2]]\n",
       " [1] \"tools\"     \"jsonlite\"  \"httr\"      \"stats\"     \"graphics\"  \"grDevices\"\n",
       " [7] \"utils\"     \"datasets\"  \"methods\"   \"base\"     \n",
       "\n",
       "[[3]]\n",
       " [1] \"tools\"     \"jsonlite\"  \"httr\"      \"stats\"     \"graphics\"  \"grDevices\"\n",
       " [7] \"utils\"     \"datasets\"  \"methods\"   \"base\"     \n",
       "\n",
       "[[4]]\n",
       " [1] \"tools\"     \"jsonlite\"  \"httr\"      \"stats\"     \"graphics\"  \"grDevices\"\n",
       " [7] \"utils\"     \"datasets\"  \"methods\"   \"base\"     \n",
       "\n",
       "[[5]]\n",
       " [1] \"tools\"     \"jsonlite\"  \"httr\"      \"stats\"     \"graphics\"  \"grDevices\"\n",
       " [7] \"utils\"     \"datasets\"  \"methods\"   \"base\"     \n",
       "\n",
       "[[6]]\n",
       " [1] \"tools\"     \"jsonlite\"  \"httr\"      \"stats\"     \"graphics\"  \"grDevices\"\n",
       " [7] \"utils\"     \"datasets\"  \"methods\"   \"base\"     \n",
       "\n",
       "[[7]]\n",
       " [1] \"tools\"     \"jsonlite\"  \"httr\"      \"stats\"     \"graphics\"  \"grDevices\"\n",
       " [7] \"utils\"     \"datasets\"  \"methods\"   \"base\"     \n",
       "\n",
       "[[8]]\n",
       " [1] \"tools\"     \"jsonlite\"  \"httr\"      \"stats\"     \"graphics\"  \"grDevices\"\n",
       " [7] \"utils\"     \"datasets\"  \"methods\"   \"base\"     \n",
       "\n",
       "[[9]]\n",
       " [1] \"tools\"     \"jsonlite\"  \"httr\"      \"stats\"     \"graphics\"  \"grDevices\"\n",
       " [7] \"utils\"     \"datasets\"  \"methods\"   \"base\"     \n"
      ]
     },
     "metadata": {},
     "output_type": "display_data"
    }
   ],
   "source": [
    "# Define the process_file function for parallel processing\n",
    "process_file <- function(fasta_file) {\n",
    "  return(get_evo2(fasta_file))\n",
    "}\n",
    "\n",
    "# Find all FASTA files\n",
    "fasta_files <- list.files(path = file.path(ROOT_DIR, \"data/human_genes_dna\"), \n",
    "                          pattern = \"\\\\.fa$\", \n",
    "                          full.names = TRUE)\n",
    "\n",
    "print(paste(\"Found\", length(fasta_files), \"FASTA files to process\"))\n",
    "\n",
    "# Option to limit the number of files for testing\n",
    "# Comment out the next line for full processing\n",
    "#fasta_files <- fasta_files[1:50]  # Process only the first 50 files for testing\n",
    "\n",
    "print(paste(\"Will process\", length(fasta_files), \"files\"))\n",
    "\n",
    "# Process files in parallel\n",
    "start_time <- Sys.time()\n",
    "\n",
    "# Set up parallel cluster\n",
    "cl <- makeCluster(MAX_PARALLEL)\n",
    "\n",
    "# Export variables and functions to the cluster\n",
    "clusterExport(cl, c(\"API_KEY\", \"URL\", \"TEMP_DIR\", \"MAX_SEQ_LENGTH\", \"TIMEOUT\", \"get_evo2\", \"process_file\"))\n",
    "\n",
    "# Load libraries on all workers\n",
    "clusterEvalQ(cl, {\n",
    "    library(httr)\n",
    "    library(jsonlite)\n",
    "    library(tools)\n",
    "})\n",
    "\n",
    "# Process files with progress bar\n",
    "results <- pblapply(fasta_files, process_file, cl = cl)\n",
    "\n",
    "# Stop the cluster\n",
    "stopCluster(cl)\n",
    "\n",
    "# Combine results into a data frame\n",
    "results_df <- do.call(rbind, results)\n",
    "\n",
    "# Calculate success and error counts\n",
    "success_count <- sum(!grepl(\"ERROR\", results_df$mean_likelihood))\n",
    "error_count <- sum(grepl(\"ERROR\", results_df$mean_likelihood))\n",
    "\n",
    "elapsed_time <- Sys.time() - start_time\n",
    "print(paste(\"Processing complete in\", round(as.numeric(elapsed_time), 2), \"seconds!\"))\n",
    "print(paste(\"Successfully processed:\", success_count, \"files\"))\n",
    "print(paste(\"Errors:\", error_count, \"files\"))\n",
    "\n",
    "# Save combined results to CSV\n",
    "print(\"Combining results...\")\n",
    "\n",
    "write.csv(results_df, file.path(OUTPUT_DIR, \"mean_likelihoods.csv\"), row.names = FALSE)\n",
    "print(paste(\"Results saved to\", file.path(OUTPUT_DIR, \"mean_likelihoods.csv\")))"
   ]
  },
  {
   "cell_type": "markdown",
   "metadata": {},
   "source": [
    "Load mean likelihoods"
   ]
  },
  {
   "cell_type": "code",
   "execution_count": 11,
   "metadata": {
    "vscode": {
     "languageId": "r"
    }
   },
   "outputs": [],
   "source": [
    "likelihoods <- read.csv(\"~/Documents/Research/github/2025-evo2-gene-age/output/mean_likelihoods.csv\")"
   ]
  },
  {
   "cell_type": "markdown",
   "metadata": {},
   "source": [
    "## Data Processing\n",
    "\n",
    "Clean and prepare gene identifiers for matching"
   ]
  },
  {
   "cell_type": "code",
   "execution_count": 12,
   "metadata": {
    "vscode": {
     "languageId": "r"
    }
   },
   "outputs": [
    {
     "name": "stdout",
     "output_type": "stream",
     "text": [
      "[1] \"Gene ID cleaning example:\"\n",
      "[1] \"Original IDs:\"\n",
      "[1] \"ENSG00000000003_15\" \"ENSG00000000005_6\"  \"ENSG00000000419_14\"\n",
      "[4] \"ENSG00000000457_14\" \"ENSG00000000460_17\"\n",
      "[1] \"Cleaned IDs:\"\n",
      "[1] \"ENSG00000000003\" \"ENSG00000000005\" \"ENSG00000000419\" \"ENSG00000000457\"\n",
      "[5] \"ENSG00000000460\"\n",
      "[1] \"Total likelihood entries after cleaning: 22796\"\n"
     ]
    }
   ],
   "source": [
    "# Clean up gene identifiers (extract base gene ID before underscore)\n",
    "original_ids <- likelihoods$gene_id[1:5]\n",
    "likelihoods$gene_id <- unlist(lapply(strsplit(likelihoods$gene_id, \"_\"), function(x) x[1]))\n",
    "cleaned_ids <- likelihoods$gene_id[1:5]\n",
    "\n",
    "print(\"Gene ID cleaning example:\")\n",
    "print(\"Original IDs:\")\n",
    "print(original_ids)\n",
    "print(\"Cleaned IDs:\")\n",
    "print(cleaned_ids)\n",
    "\n",
    "print(paste(\"Total likelihood entries after cleaning:\", length(unique(likelihoods$gene_id))))"
   ]
  },
  {
   "cell_type": "markdown",
   "metadata": {},
   "source": [
    "## Data Integration\n",
    "\n",
    "Match genes between datasets and extract corresponding values"
   ]
  },
  {
   "cell_type": "code",
   "execution_count": 13,
   "metadata": {
    "vscode": {
     "languageId": "r"
    }
   },
   "outputs": [
    {
     "name": "stdout",
     "output_type": "stream",
     "text": [
      "[1] \"Genes in age dataset: 23127\"\n",
      "[1] \"Genes in likelihood dataset: 22796\"\n",
      "[1] \"Genes in both datasets: 22710\"\n",
      "[1] \"Overlap with age data: 98.2 %\"\n",
      "[1] \"Overlap with likelihood data: 99.6 %\"\n"
     ]
    }
   ],
   "source": [
    "# Identify genes present in both datasets\n",
    "genes <- intersect(all_ages$ensembl_gene_id, likelihoods$gene_id)\n",
    "\n",
    "print(paste(\"Genes in age dataset:\", length(unique(all_ages$ensembl_gene_id))))\n",
    "print(paste(\"Genes in likelihood dataset:\", length(unique(likelihoods$gene_id))))\n",
    "print(paste(\"Genes in both datasets:\", length(genes)))\n",
    "\n",
    "# Calculate overlap percentages\n",
    "age_overlap <- round(100 * length(genes) / length(unique(all_ages$ensembl_gene_id)), 1)\n",
    "lik_overlap <- round(100 * length(genes) / length(unique(likelihoods$gene_id)), 1)\n",
    "print(paste(\"Overlap with age data:\", age_overlap, \"%\"))\n",
    "print(paste(\"Overlap with likelihood data:\", lik_overlap, \"%\"))"
   ]
  },
  {
   "cell_type": "code",
   "execution_count": 22,
   "metadata": {
    "vscode": {
     "languageId": "r"
    }
   },
   "outputs": [
    {
     "name": "stderr",
     "output_type": "stream",
     "text": [
      "Warning message:\n",
      "\"NAs introduced by coercion\"\n"
     ]
    },
    {
     "name": "stdout",
     "output_type": "stream",
     "text": [
      "[1] \"Matched data summary:\"\n",
      "[1] \"Valid age values: 22710\"\n",
      "[1] \"Valid likelihood values: 22700\"\n",
      "[1] \"Complete pairs: 22700\"\n"
     ]
    }
   ],
   "source": [
    "# Match genes to their evolutionary ages\n",
    "ages <- as.numeric(all_ages$gene_age[match(genes, all_ages$ensembl_gene_id)])\n",
    "\n",
    "# Match genes to their likelihood values\n",
    "liks <- as.numeric(likelihoods$mean_likelihood[match(genes, likelihoods$gene_id)])\n",
    "\n",
    "print(\"Matched data summary:\")\n",
    "print(paste(\"Valid age values:\", sum(!is.na(ages))))\n",
    "print(paste(\"Valid likelihood values:\", sum(!is.na(liks))))\n",
    "print(paste(\"Complete pairs:\", sum(!is.na(ages) & !is.na(liks))))"
   ]
  },
  {
   "cell_type": "markdown",
   "metadata": {},
   "source": [
    "## Rolling Window Analysis\n",
    "\n",
    "Calculate rolling averages across evolutionary time using 250 MYA windows"
   ]
  },
  {
   "cell_type": "code",
   "execution_count": 15,
   "metadata": {
    "vscode": {
     "languageId": "r"
    }
   },
   "outputs": [
    {
     "name": "stdout",
     "output_type": "stream",
     "text": [
      "[1] \"Calculating rolling windows with 250 MYA windows, step size: 1\"\n",
      "[1] \"Processing time windows...\"\n",
      "[1] \"Processing window starting at 1 MYA\"\n",
      "[1] \"Processing window starting at 101 MYA\"\n",
      "[1] \"Processing window starting at 201 MYA\"\n",
      "[1] \"Processing window starting at 301 MYA\"\n",
      "[1] \"Processing window starting at 401 MYA\"\n",
      "[1] \"Processing window starting at 501 MYA\"\n",
      "[1] \"Processing window starting at 601 MYA\"\n",
      "[1] \"Processing window starting at 701 MYA\"\n",
      "[1] \"Processing window starting at 801 MYA\"\n",
      "[1] \"Processing window starting at 901 MYA\"\n",
      "[1] \"Processing window starting at 1001 MYA\"\n",
      "[1] \"Processing window starting at 1101 MYA\"\n",
      "[1] \"Processing window starting at 1201 MYA\"\n",
      "[1] \"Processing window starting at 1301 MYA\"\n",
      "[1] \"Processing window starting at 1401 MYA\"\n",
      "[1] \"Created 1500 time windows\"\n",
      "[1] \"Window size range: 343 to 7532 genes\"\n",
      "[1] \"Median window size: 2191 genes\"\n"
     ]
    }
   ],
   "source": [
    "# Calculate rolling averages across evolutionary time\n",
    "bins <- list()\n",
    "window_size <- 250\n",
    "step_size <- 1\n",
    "\n",
    "print(paste(\"Calculating rolling windows with\", window_size, \"MYA windows, step size:\", step_size))\n",
    "print(\"Processing time windows...\")\n",
    "\n",
    "for (i in seq(1, 1500, step_size)) {\n",
    "  if (i %% 100 == 1) print(paste(\"Processing window starting at\", i, \"MYA\"))\n",
    "  \n",
    "  # Extract log-likelihood values for 250 MYA windows\n",
    "  x <- log(liks[ages > i & ages < (i + window_size)]) * -1\n",
    "  bins[[as.character(i)]] <- x\n",
    "}\n",
    "\n",
    "print(paste(\"Created\", length(bins), \"time windows\"))\n",
    "\n",
    "# Show window sizes\n",
    "window_sizes <- unlist(lapply(bins, length))\n",
    "print(paste(\"Window size range:\", min(window_sizes), \"to\", max(window_sizes), \"genes\"))\n",
    "print(paste(\"Median window size:\", median(window_sizes), \"genes\"))"
   ]
  },
  {
   "cell_type": "markdown",
   "metadata": {},
   "source": [
    "## Statistical Summary\n",
    "\n",
    "Calculate median and standard error for each time window"
   ]
  },
  {
   "cell_type": "code",
   "execution_count": 16,
   "metadata": {
    "vscode": {
     "languageId": "r"
    }
   },
   "outputs": [
    {
     "name": "stdout",
     "output_type": "stream",
     "text": [
      "[1] \"Rolling statistics summary:\"\n",
      "[1] \"Valid median values: 1500\"\n",
      "[1] \"Valid error values: 1500\"\n",
      "[1] \"Median negative log-likelihood range:\"\n",
      "[1] \"Min: 0.055\"\n",
      "[1] \"Max: 0.112\"\n",
      "[1] \"Mean: 0.074\"\n",
      "[1] \"Standard error range:\"\n",
      "[1] \"Min: 0.0039\"\n",
      "[1] \"Max: 0.019\"\n",
      "[1] \"Mean: 0.0086\"\n"
     ]
    }
   ],
   "source": [
    "# Calculate median and standard error for each time window\n",
    "roll_m <- unlist(lapply(bins, function(x) median(x, na.rm = TRUE)))\n",
    "roll_error_m <- unlist(lapply(bins, function(x) pracma::std_err(na.omit(x))))\n",
    "\n",
    "print(\"Rolling statistics summary:\")\n",
    "print(paste(\"Valid median values:\", sum(!is.na(roll_m))))\n",
    "print(paste(\"Valid error values:\", sum(!is.na(roll_error_m))))\n",
    "\n",
    "print(\"Median negative log-likelihood range:\")\n",
    "print(paste(\"Min:\", round(min(roll_m, na.rm=TRUE), 3)))\n",
    "print(paste(\"Max:\", round(max(roll_m, na.rm=TRUE), 3)))\n",
    "print(paste(\"Mean:\", round(mean(roll_m, na.rm=TRUE), 3)))\n",
    "\n",
    "print(\"Standard error range:\")\n",
    "print(paste(\"Min:\", round(min(roll_error_m, na.rm=TRUE), 4)))\n",
    "print(paste(\"Max:\", round(max(roll_error_m, na.rm=TRUE), 4)))\n",
    "print(paste(\"Mean:\", round(mean(roll_error_m, na.rm=TRUE), 4)))"
   ]
  },
  {
   "cell_type": "markdown",
   "metadata": {},
   "source": [
    "## Visualization Data Preparation"
   ]
  },
  {
   "cell_type": "code",
   "execution_count": 21,
   "metadata": {
    "vscode": {
     "languageId": "r"
    }
   },
   "outputs": [],
   "source": [
    "# Prepare data frame for plotting\n",
    "val <- data.frame(x = seq(1, 1500, 1),\n",
    "                 y = roll_m,\n",
    "                 error = roll_error_m)\n",
    "\n",
    "# Remove any rows with missing values\n",
    "val_clean <- val[complete.cases(val), ]"
   ]
  },
  {
   "cell_type": "markdown",
   "metadata": {},
   "source": [
    "## Plot Generation\n",
    "\n",
    "Create time series plot with confidence bands"
   ]
  },
  {
   "cell_type": "code",
   "execution_count": 18,
   "metadata": {
    "vscode": {
     "languageId": "r"
    }
   },
   "outputs": [
    {
     "name": "stdout",
     "output_type": "stream",
     "text": [
      "[1] \"Time series plot generated\"\n"
     ]
    },
    {
     "data": {
      "image/png": "[encoded data removed]",
      "text/plain": [
       "plot without title"
      ]
     },
     "metadata": {
      "image/png": {
       "height": 420,
       "width": 420
      }
     },
     "output_type": "display_data"
    }
   ],
   "source": [
    "# Create time series plot with confidence bands\n",
    "p <- ggplot(data = val,\n",
    "       aes(x = x,\n",
    "           y = y,\n",
    "           ymin = y - roll_error_m,\n",
    "           ymax = y + roll_error_m)) +\n",
    "  geom_line() +\n",
    "  geom_ribbon(alpha = 0.5) +\n",
    "  theme_arcadia() +\n",
    "  xlab(\"Years before present (MYA)\") +\n",
    "  ylab(\"Negative log likelihood\")\n",
    "\n",
    "# Display the plot\n",
    "print(p)\n",
    "\n",
    "print(\"Time series plot generated\")"
   ]
  },
  {
   "cell_type": "markdown",
   "metadata": {},
   "source": [
    "## Correlation Analysis\n",
    "\n",
    "Calculate correlation between evolutionary time and likelihood"
   ]
  },
  {
   "cell_type": "code",
   "execution_count": 19,
   "metadata": {
    "vscode": {
     "languageId": "r"
    }
   },
   "outputs": [
    {
     "name": "stdout",
     "output_type": "stream",
     "text": [
      "[1] \"Correlation between time (MYA) and negative log-likelihood: -0.8623\"\n"
     ]
    },
    {
     "name": "stdout",
     "output_type": "stream",
     "text": [
      "[1] \"P-value: <2e-16\"\n",
      "[1] \"95% Confidence interval: -0.8747 to -0.8487\"\n"
     ]
    }
   ],
   "source": [
    "# Calculate correlation between time and likelihood\n",
    "correlation <- cor(val$x, val$y, use = \"complete.obs\")\n",
    "\n",
    "print(paste(\"Correlation between time (MYA) and negative log-likelihood:\", round(correlation, 4)))\n",
    "\n",
    "# Additional correlation statistics\n",
    "cor_test <- cor.test(val$x, val$y, use = \"complete.obs\")\n",
    "print(paste(\"P-value:\", format.pval(cor_test$p.value, digits = 3)))\n",
    "print(paste(\"95% Confidence interval:\", \n",
    "           round(cor_test$conf.int[1], 4), \"to\", round(cor_test$conf.int[2], 4)))"
   ]
  },
  {
   "cell_type": "markdown",
   "metadata": {},
   "source": [
    "## Conclusion\n",
    "\n",
    "This analysis:\n",
    "1. Integrated gene age data from OrthoDB with evolutionary likelihood estimates\n",
    "2. Applied rolling window analysis across evolutionary time (250 MYA windows)\n",
    "3. Calculated median likelihood values and standard errors for each time period\n",
    "4. Visualized temporal trends with confidence bands\n",
    "5. Quantified the relationship between gene age and evolutionary likelihood\n",
    "\n",
    "The results reveal how evolutionary likelihood patterns change across different evolutionary time scales, providing insights into the relationship between gene age and evolutionary processes."
   ]
  }
 ],
 "metadata": {
  "kernelspec": {
   "display_name": "R",
   "language": "R",
   "name": "ir"
  },
  "language_info": {
   "codemirror_mode": "r",
   "file_extension": ".r",
   "mimetype": "text/x-r-source",
   "name": "R",
   "pygments_lexer": "r",
   "version": "4.4.1"
  }
 },
 "nbformat": 4,
 "nbformat_minor": 4
}
